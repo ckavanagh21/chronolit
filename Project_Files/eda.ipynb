{
 "cells": [
  {
   "cell_type": "markdown",
   "metadata": {},
   "source": [
    "# Import Important Libraries and Dataset"
   ]
  },
  {
   "cell_type": "code",
   "execution_count": 84,
   "metadata": {},
   "outputs": [
    {
     "name": "stderr",
     "output_type": "stream",
     "text": [
      "[nltk_data] Downloading package stopwords to\n",
      "[nltk_data]     /Users/darrenjiang/nltk_data...\n",
      "[nltk_data]   Package stopwords is already up-to-date!\n",
      "[nltk_data] Downloading package punkt to\n",
      "[nltk_data]     /Users/darrenjiang/nltk_data...\n",
      "[nltk_data]   Package punkt is already up-to-date!\n"
     ]
    }
   ],
   "source": [
    "import numpy as np\n",
    "import csv\n",
    "import pandas as pd\n",
    "import matplotlib.pyplot as plt\n",
    "import re\n",
    "\n",
    "import matplotlib.pyplot as plt\n",
    "from sklearn.feature_extraction.text import TfidfVectorizer\n",
    "import nltk\n",
    "from nltk.corpus import stopwords\n",
    "\n",
    "nltk.download('stopwords')\n",
    "nltk.download('punkt')\n",
    "\n",
    "from sklearn import linear_model\n",
    "from sklearn.model_selection import train_test_split"
   ]
  },
  {
   "cell_type": "code",
   "execution_count": 3,
   "metadata": {},
   "outputs": [
    {
     "data": {
      "text/html": [
       "<div>\n",
       "<style scoped>\n",
       "    .dataframe tbody tr th:only-of-type {\n",
       "        vertical-align: middle;\n",
       "    }\n",
       "\n",
       "    .dataframe tbody tr th {\n",
       "        vertical-align: top;\n",
       "    }\n",
       "\n",
       "    .dataframe thead th {\n",
       "        text-align: right;\n",
       "    }\n",
       "</style>\n",
       "<table border=\"1\" class=\"dataframe\">\n",
       "  <thead>\n",
       "    <tr style=\"text-align: right;\">\n",
       "      <th></th>\n",
       "      <th>book_id</th>\n",
       "      <th>text</th>\n",
       "      <th>birth_yr</th>\n",
       "    </tr>\n",
       "  </thead>\n",
       "  <tbody>\n",
       "    <tr>\n",
       "      <th>0</th>\n",
       "      <td>84</td>\n",
       "      <td>“And now, with the world before me, whither sh...</td>\n",
       "      <td>1797</td>\n",
       "    </tr>\n",
       "    <tr>\n",
       "      <th>1</th>\n",
       "      <td>84</td>\n",
       "      <td>“You have been ill, very ill, and even the con...</td>\n",
       "      <td>1797</td>\n",
       "    </tr>\n",
       "    <tr>\n",
       "      <th>2</th>\n",
       "      <td>84</td>\n",
       "      <td>“I intended to reason. This passion is detrime...</td>\n",
       "      <td>1797</td>\n",
       "    </tr>\n",
       "    <tr>\n",
       "      <th>3</th>\n",
       "      <td>84</td>\n",
       "      <td>“How is this? I must not be trifled with, and ...</td>\n",
       "      <td>1797</td>\n",
       "    </tr>\n",
       "    <tr>\n",
       "      <th>4</th>\n",
       "      <td>84</td>\n",
       "      <td>“A few days after, the Turk entered his daught...</td>\n",
       "      <td>1797</td>\n",
       "    </tr>\n",
       "  </tbody>\n",
       "</table>\n",
       "</div>"
      ],
      "text/plain": [
       "   book_id                                               text  birth_yr\n",
       "0       84  “And now, with the world before me, whither sh...      1797\n",
       "1       84  “You have been ill, very ill, and even the con...      1797\n",
       "2       84  “I intended to reason. This passion is detrime...      1797\n",
       "3       84  “How is this? I must not be trifled with, and ...      1797\n",
       "4       84  “A few days after, the Turk entered his daught...      1797"
      ]
     },
     "execution_count": 3,
     "metadata": {},
     "output_type": "execute_result"
    }
   ],
   "source": [
    "raw_data = pd.read_csv(\"data/data.csv\")\n",
    "raw_data.head()"
   ]
  },
  {
   "cell_type": "markdown",
   "metadata": {},
   "source": [
    "# EDA"
   ]
  },
  {
   "cell_type": "code",
   "execution_count": 4,
   "metadata": {},
   "outputs": [
    {
     "name": "stdout",
     "output_type": "stream",
     "text": [
      "Number of books in dataset: 1524\n",
      "Number of excerpts in dataset: 8718\n"
     ]
    }
   ],
   "source": [
    "print(f\"Number of books in dataset: {raw_data['book_id'].unique().shape[0]}\")\n",
    "print(f\"Number of excerpts in dataset: {raw_data.shape[0]}\")"
   ]
  },
  {
   "cell_type": "code",
   "execution_count": 5,
   "metadata": {},
   "outputs": [],
   "source": [
    "data = raw_data.copy()\n",
    "data['text'] = data['text'].str.strip()\n",
    "data = data.drop(4996)"
   ]
  },
  {
   "cell_type": "code",
   "execution_count": 6,
   "metadata": {},
   "outputs": [
    {
     "data": {
      "text/html": [
       "<div>\n",
       "<style scoped>\n",
       "    .dataframe tbody tr th:only-of-type {\n",
       "        vertical-align: middle;\n",
       "    }\n",
       "\n",
       "    .dataframe tbody tr th {\n",
       "        vertical-align: top;\n",
       "    }\n",
       "\n",
       "    .dataframe thead th {\n",
       "        text-align: right;\n",
       "    }\n",
       "</style>\n",
       "<table border=\"1\" class=\"dataframe\">\n",
       "  <thead>\n",
       "    <tr style=\"text-align: right;\">\n",
       "      <th></th>\n",
       "      <th>book_id</th>\n",
       "      <th>text</th>\n",
       "      <th>birth_yr</th>\n",
       "      <th>text_len</th>\n",
       "    </tr>\n",
       "  </thead>\n",
       "  <tbody>\n",
       "    <tr>\n",
       "      <th>0</th>\n",
       "      <td>84</td>\n",
       "      <td>“And now, with the world before me, whither sh...</td>\n",
       "      <td>1797</td>\n",
       "      <td>663</td>\n",
       "    </tr>\n",
       "    <tr>\n",
       "      <th>1</th>\n",
       "      <td>84</td>\n",
       "      <td>“You have been ill, very ill, and even the con...</td>\n",
       "      <td>1797</td>\n",
       "      <td>931</td>\n",
       "    </tr>\n",
       "    <tr>\n",
       "      <th>2</th>\n",
       "      <td>84</td>\n",
       "      <td>“I intended to reason. This passion is detrime...</td>\n",
       "      <td>1797</td>\n",
       "      <td>938</td>\n",
       "    </tr>\n",
       "    <tr>\n",
       "      <th>3</th>\n",
       "      <td>84</td>\n",
       "      <td>“How is this? I must not be trifled with, and ...</td>\n",
       "      <td>1797</td>\n",
       "      <td>542</td>\n",
       "    </tr>\n",
       "    <tr>\n",
       "      <th>4</th>\n",
       "      <td>84</td>\n",
       "      <td>“A few days after, the Turk entered his daught...</td>\n",
       "      <td>1797</td>\n",
       "      <td>521</td>\n",
       "    </tr>\n",
       "  </tbody>\n",
       "</table>\n",
       "</div>"
      ],
      "text/plain": [
       "   book_id                                               text  birth_yr  \\\n",
       "0       84  “And now, with the world before me, whither sh...      1797   \n",
       "1       84  “You have been ill, very ill, and even the con...      1797   \n",
       "2       84  “I intended to reason. This passion is detrime...      1797   \n",
       "3       84  “How is this? I must not be trifled with, and ...      1797   \n",
       "4       84  “A few days after, the Turk entered his daught...      1797   \n",
       "\n",
       "   text_len  \n",
       "0       663  \n",
       "1       931  \n",
       "2       938  \n",
       "3       542  \n",
       "4       521  "
      ]
     },
     "execution_count": 6,
     "metadata": {},
     "output_type": "execute_result"
    },
    {
     "data": {
      "image/png": "[encoded data removed]",
      "text/plain": [
       "<Figure size 432x288 with 1 Axes>"
      ]
     },
     "metadata": {
      "needs_background": "light"
     },
     "output_type": "display_data"
    }
   ],
   "source": [
    "text_len = data['text'].str.len()\n",
    "data['text_len'] = text_len\n",
    "plt.hist(\n",
    "    data['text_len'][data['text_len'] < 4000],\n",
    "    bins = 100\n",
    ")\n",
    "plt.xlabel('text length')\n",
    "plt.ylabel('number of excerpts')\n",
    "\n",
    "data.head()"
   ]
  },
  {
   "cell_type": "code",
   "execution_count": 7,
   "metadata": {},
   "outputs": [],
   "source": [
    "data_ctr = data[data['birth_yr'] >= 1400]\n",
    "data_ctr = data_ctr[data_ctr['text_len'] <= 4000]"
   ]
  },
  {
   "cell_type": "code",
   "execution_count": 8,
   "metadata": {},
   "outputs": [
    {
     "data": {
      "text/plain": [
       "[<matplotlib.lines.Line2D at 0x7fce60f99d60>]"
      ]
     },
     "execution_count": 8,
     "metadata": {},
     "output_type": "execute_result"
    },
    {
     "data": {
      "image/png": "[encoded data removed]",
      "text/plain": [
       "<Figure size 432x288 with 1 Axes>"
      ]
     },
     "metadata": {
      "needs_background": "light"
     },
     "output_type": "display_data"
    }
   ],
   "source": [
    "a, b = np.polyfit(\n",
    "    data_ctr['birth_yr'].to_numpy(), \n",
    "    data_ctr['text_len'].to_numpy(), \n",
    "    1\n",
    ")\n",
    "\n",
    "plt.scatter(\n",
    "    x = data_ctr['birth_yr'], \n",
    "    y = data_ctr['text_len'],\n",
    "    alpha = 0.5\n",
    ")\n",
    "\n",
    "plt.plot(\n",
    "    data_ctr['birth_yr'].to_numpy(), \n",
    "    a * data_ctr['birth_yr'].to_numpy() + b,\n",
    "    color='red'\n",
    ") "
   ]
  },
  {
   "cell_type": "code",
   "execution_count": 9,
   "metadata": {},
   "outputs": [
    {
     "data": {
      "text/plain": [
       "count     8717.000000\n",
       "mean       829.661925\n",
       "std       1039.423894\n",
       "min        373.000000\n",
       "25%        473.000000\n",
       "50%        600.000000\n",
       "75%        897.000000\n",
       "max      51354.000000\n",
       "Name: text, dtype: float64"
      ]
     },
     "execution_count": 9,
     "metadata": {},
     "output_type": "execute_result"
    }
   ],
   "source": [
    "text_len.describe()"
   ]
  },
  {
   "cell_type": "code",
   "execution_count": 10,
   "metadata": {},
   "outputs": [
    {
     "data": {
      "text/plain": [
       "count    8717.000000\n",
       "mean     1852.802340\n",
       "std        94.942837\n",
       "min      -431.000000\n",
       "25%      1831.000000\n",
       "50%      1861.000000\n",
       "75%      1893.000000\n",
       "max      1951.000000\n",
       "Name: birth_yr, dtype: float64"
      ]
     },
     "execution_count": 10,
     "metadata": {},
     "output_type": "execute_result"
    }
   ],
   "source": [
    "data['birth_yr'].describe()"
   ]
  },
  {
   "cell_type": "code",
   "execution_count": 11,
   "metadata": {},
   "outputs": [
    {
     "name": "stdout",
     "output_type": "stream",
     "text": [
      "Timeframe: 1500-1600\tNumber of Excerpts: 88\n",
      "Timeframe: 1600-1700\tNumber of Excerpts: 136\n",
      "Timeframe: 1700-1800\tNumber of Excerpts: 682\n",
      "Timeframe: 1800-1900\tNumber of Excerpts: 5743\n",
      "Timeframe: 1900-2000\tNumber of Excerpts: 2059\n"
     ]
    }
   ],
   "source": [
    "for i in range(1500, 2000, 100):\n",
    "    num_excerpts = (\n",
    "        data[\n",
    "            (data['birth_yr'] >= i) & \n",
    "            (data['birth_yr'] < (i + 100))\n",
    "        ].shape[0]\n",
    "    )\n",
    "\n",
    "    print(f\"Timeframe: {i}-{i+100}\\tNumber of Excerpts: {num_excerpts}\")"
   ]
  },
  {
   "cell_type": "markdown",
   "metadata": {},
   "source": [
    "## Outliers"
   ]
  },
  {
   "cell_type": "code",
   "execution_count": 12,
   "metadata": {},
   "outputs": [
    {
     "data": {
      "text/html": [
       "<div>\n",
       "<style scoped>\n",
       "    .dataframe tbody tr th:only-of-type {\n",
       "        vertical-align: middle;\n",
       "    }\n",
       "\n",
       "    .dataframe tbody tr th {\n",
       "        vertical-align: top;\n",
       "    }\n",
       "\n",
       "    .dataframe thead th {\n",
       "        text-align: right;\n",
       "    }\n",
       "</style>\n",
       "<table border=\"1\" class=\"dataframe\">\n",
       "  <thead>\n",
       "    <tr style=\"text-align: right;\">\n",
       "      <th></th>\n",
       "      <th>book_id</th>\n",
       "      <th>text</th>\n",
       "      <th>birth_yr</th>\n",
       "      <th>text_len</th>\n",
       "    </tr>\n",
       "  </thead>\n",
       "  <tbody>\n",
       "    <tr>\n",
       "      <th>2750</th>\n",
       "      <td>71894</td>\n",
       "      <td>It was arranged that the band of volunteers sh...</td>\n",
       "      <td>-431</td>\n",
       "      <td>418</td>\n",
       "    </tr>\n",
       "    <tr>\n",
       "      <th>2751</th>\n",
       "      <td>71894</td>\n",
       "      <td>Almost all the officers were of the same mind,...</td>\n",
       "      <td>-431</td>\n",
       "      <td>465</td>\n",
       "    </tr>\n",
       "    <tr>\n",
       "      <th>2752</th>\n",
       "      <td>71894</td>\n",
       "      <td>It was now necessary to find some means of cro...</td>\n",
       "      <td>-431</td>\n",
       "      <td>762</td>\n",
       "    </tr>\n",
       "    <tr>\n",
       "      <th>2753</th>\n",
       "      <td>71894</td>\n",
       "      <td>They overcame the difficulty however by means ...</td>\n",
       "      <td>-431</td>\n",
       "      <td>468</td>\n",
       "    </tr>\n",
       "    <tr>\n",
       "      <th>2754</th>\n",
       "      <td>71894</td>\n",
       "      <td>It was at first proposed to advance in the for...</td>\n",
       "      <td>-431</td>\n",
       "      <td>653</td>\n",
       "    </tr>\n",
       "    <tr>\n",
       "      <th>2755</th>\n",
       "      <td>71894</td>\n",
       "      <td>There could no longer be any doubt that the Ca...</td>\n",
       "      <td>-431</td>\n",
       "      <td>652</td>\n",
       "    </tr>\n",
       "    <tr>\n",
       "      <th>2756</th>\n",
       "      <td>71894</td>\n",
       "      <td>But Cyrus had long ago foreseen this difficult...</td>\n",
       "      <td>-431</td>\n",
       "      <td>443</td>\n",
       "    </tr>\n",
       "    <tr>\n",
       "      <th>2757</th>\n",
       "      <td>71894</td>\n",
       "      <td>This speech made the desired impression, for t...</td>\n",
       "      <td>-431</td>\n",
       "      <td>435</td>\n",
       "    </tr>\n",
       "    <tr>\n",
       "      <th>2758</th>\n",
       "      <td>71894</td>\n",
       "      <td>Best as well as last of all, was the horse-rac...</td>\n",
       "      <td>-431</td>\n",
       "      <td>587</td>\n",
       "    </tr>\n",
       "  </tbody>\n",
       "</table>\n",
       "</div>"
      ],
      "text/plain": [
       "      book_id                                               text  birth_yr  \\\n",
       "2750    71894  It was arranged that the band of volunteers sh...      -431   \n",
       "2751    71894  Almost all the officers were of the same mind,...      -431   \n",
       "2752    71894  It was now necessary to find some means of cro...      -431   \n",
       "2753    71894  They overcame the difficulty however by means ...      -431   \n",
       "2754    71894  It was at first proposed to advance in the for...      -431   \n",
       "2755    71894  There could no longer be any doubt that the Ca...      -431   \n",
       "2756    71894  But Cyrus had long ago foreseen this difficult...      -431   \n",
       "2757    71894  This speech made the desired impression, for t...      -431   \n",
       "2758    71894  Best as well as last of all, was the horse-rac...      -431   \n",
       "\n",
       "      text_len  \n",
       "2750       418  \n",
       "2751       465  \n",
       "2752       762  \n",
       "2753       468  \n",
       "2754       653  \n",
       "2755       652  \n",
       "2756       443  \n",
       "2757       435  \n",
       "2758       587  "
      ]
     },
     "execution_count": 12,
     "metadata": {},
     "output_type": "execute_result"
    }
   ],
   "source": [
    "data[data['birth_yr'] < 1400]"
   ]
  },
  {
   "cell_type": "code",
   "execution_count": 13,
   "metadata": {},
   "outputs": [
    {
     "data": {
      "text/plain": [
       "(60, 4)"
      ]
     },
     "execution_count": 13,
     "metadata": {},
     "output_type": "execute_result"
    }
   ],
   "source": [
    "data[data['text_len'] > 4000].shape"
   ]
  },
  {
   "cell_type": "markdown",
   "metadata": {},
   "source": [
    "# Creating Balanced Dataset"
   ]
  },
  {
   "cell_type": "code",
   "execution_count": 14,
   "metadata": {},
   "outputs": [
    {
     "data": {
      "text/html": [
       "<div>\n",
       "<style scoped>\n",
       "    .dataframe tbody tr th:only-of-type {\n",
       "        vertical-align: middle;\n",
       "    }\n",
       "\n",
       "    .dataframe tbody tr th {\n",
       "        vertical-align: top;\n",
       "    }\n",
       "\n",
       "    .dataframe thead th {\n",
       "        text-align: right;\n",
       "    }\n",
       "</style>\n",
       "<table border=\"1\" class=\"dataframe\">\n",
       "  <thead>\n",
       "    <tr style=\"text-align: right;\">\n",
       "      <th></th>\n",
       "      <th>book_id</th>\n",
       "      <th>text</th>\n",
       "      <th>birth_yr</th>\n",
       "      <th>text_len</th>\n",
       "      <th>birth_ctry</th>\n",
       "    </tr>\n",
       "  </thead>\n",
       "  <tbody>\n",
       "    <tr>\n",
       "      <th>0</th>\n",
       "      <td>84</td>\n",
       "      <td>“And now, with the world before me, whither sh...</td>\n",
       "      <td>1797</td>\n",
       "      <td>663</td>\n",
       "      <td>17</td>\n",
       "    </tr>\n",
       "    <tr>\n",
       "      <th>1</th>\n",
       "      <td>84</td>\n",
       "      <td>“You have been ill, very ill, and even the con...</td>\n",
       "      <td>1797</td>\n",
       "      <td>931</td>\n",
       "      <td>17</td>\n",
       "    </tr>\n",
       "    <tr>\n",
       "      <th>2</th>\n",
       "      <td>84</td>\n",
       "      <td>“I intended to reason. This passion is detrime...</td>\n",
       "      <td>1797</td>\n",
       "      <td>938</td>\n",
       "      <td>17</td>\n",
       "    </tr>\n",
       "    <tr>\n",
       "      <th>3</th>\n",
       "      <td>84</td>\n",
       "      <td>“How is this? I must not be trifled with, and ...</td>\n",
       "      <td>1797</td>\n",
       "      <td>542</td>\n",
       "      <td>17</td>\n",
       "    </tr>\n",
       "    <tr>\n",
       "      <th>4</th>\n",
       "      <td>84</td>\n",
       "      <td>“A few days after, the Turk entered his daught...</td>\n",
       "      <td>1797</td>\n",
       "      <td>521</td>\n",
       "      <td>17</td>\n",
       "    </tr>\n",
       "  </tbody>\n",
       "</table>\n",
       "</div>"
      ],
      "text/plain": [
       "   book_id                                               text  birth_yr  \\\n",
       "0       84  “And now, with the world before me, whither sh...      1797   \n",
       "1       84  “You have been ill, very ill, and even the con...      1797   \n",
       "2       84  “I intended to reason. This passion is detrime...      1797   \n",
       "3       84  “How is this? I must not be trifled with, and ...      1797   \n",
       "4       84  “A few days after, the Turk entered his daught...      1797   \n",
       "\n",
       "   text_len  birth_ctry  \n",
       "0       663          17  \n",
       "1       931          17  \n",
       "2       938          17  \n",
       "3       542          17  \n",
       "4       521          17  "
      ]
     },
     "execution_count": 14,
     "metadata": {},
     "output_type": "execute_result"
    }
   ],
   "source": [
    "data_ctr['birth_ctry'] = data_ctr['birth_yr'] // 100\n",
    "data_ctr.head()"
   ]
  },
  {
   "cell_type": "code",
   "execution_count": 15,
   "metadata": {},
   "outputs": [],
   "source": [
    "data_balanced = (\n",
    "    data_ctr\n",
    "    .groupby('birth_ctry')\n",
    "    .apply(\n",
    "        lambda x: x.sample(2000, replace=True)\n",
    "    )\n",
    "    .reset_index(drop=True))"
   ]
  },
  {
   "cell_type": "code",
   "execution_count": 16,
   "metadata": {},
   "outputs": [
    {
     "data": {
      "text/plain": [
       "[<matplotlib.lines.Line2D at 0x7fce43c24c10>]"
      ]
     },
     "execution_count": 16,
     "metadata": {},
     "output_type": "execute_result"
    },
    {
     "data": {
      "image/png": "[encoded data removed]",
      "text/plain": [
       "<Figure size 432x288 with 1 Axes>"
      ]
     },
     "metadata": {
      "needs_background": "light"
     },
     "output_type": "display_data"
    }
   ],
   "source": [
    "a, b = np.polyfit(\n",
    "    data_balanced['birth_yr'].to_numpy(), \n",
    "    data_balanced['text_len'].to_numpy(), \n",
    "    1\n",
    ")\n",
    "\n",
    "plt.scatter(\n",
    "    x = data_balanced['birth_yr'], \n",
    "    y = data_balanced['text_len'],\n",
    "    alpha = 0.5\n",
    ")\n",
    "\n",
    "plt.plot(\n",
    "    data_balanced['birth_yr'].to_numpy(), \n",
    "    a * data_balanced['birth_yr'].to_numpy() + b,\n",
    "    color='red'\n",
    ") "
   ]
  },
  {
   "cell_type": "code",
   "execution_count": 17,
   "metadata": {},
   "outputs": [
    {
     "data": {
      "text/plain": [
       "count    10000.000000\n",
       "mean      1751.054400\n",
       "std        130.145832\n",
       "min       1547.000000\n",
       "25%       1628.000000\n",
       "50%       1774.000000\n",
       "75%       1869.000000\n",
       "max       1951.000000\n",
       "Name: birth_yr, dtype: float64"
      ]
     },
     "execution_count": 17,
     "metadata": {},
     "output_type": "execute_result"
    }
   ],
   "source": [
    "data_balanced['birth_yr'].describe()"
   ]
  },
  {
   "cell_type": "code",
   "execution_count": 18,
   "metadata": {},
   "outputs": [
    {
     "data": {
      "text/plain": [
       "count    10000.000000\n",
       "mean       844.507700\n",
       "std        579.251602\n",
       "min        373.000000\n",
       "25%        472.000000\n",
       "50%        608.000000\n",
       "75%       1006.000000\n",
       "max       3892.000000\n",
       "Name: text_len, dtype: float64"
      ]
     },
     "execution_count": 18,
     "metadata": {},
     "output_type": "execute_result"
    }
   ],
   "source": [
    "data_balanced['text_len'].describe()"
   ]
  },
  {
   "cell_type": "markdown",
   "metadata": {},
   "source": [
    "# Model Exploration"
   ]
  },
  {
   "cell_type": "code",
   "execution_count": 64,
   "metadata": {},
   "outputs": [
    {
     "data": {
      "text/html": [
       "<div>\n",
       "<style scoped>\n",
       "    .dataframe tbody tr th:only-of-type {\n",
       "        vertical-align: middle;\n",
       "    }\n",
       "\n",
       "    .dataframe tbody tr th {\n",
       "        vertical-align: top;\n",
       "    }\n",
       "\n",
       "    .dataframe thead th {\n",
       "        text-align: right;\n",
       "    }\n",
       "</style>\n",
       "<table border=\"1\" class=\"dataframe\">\n",
       "  <thead>\n",
       "    <tr style=\"text-align: right;\">\n",
       "      <th></th>\n",
       "      <th>book_id</th>\n",
       "      <th>text</th>\n",
       "      <th>birth_yr</th>\n",
       "      <th>text_len</th>\n",
       "    </tr>\n",
       "  </thead>\n",
       "  <tbody>\n",
       "    <tr>\n",
       "      <th>0</th>\n",
       "      <td>84</td>\n",
       "      <td>and now with the world before me whither shou...</td>\n",
       "      <td>1797</td>\n",
       "      <td>663</td>\n",
       "    </tr>\n",
       "    <tr>\n",
       "      <th>1</th>\n",
       "      <td>84</td>\n",
       "      <td>you have been ill very ill and even the const...</td>\n",
       "      <td>1797</td>\n",
       "      <td>931</td>\n",
       "    </tr>\n",
       "    <tr>\n",
       "      <th>2</th>\n",
       "      <td>84</td>\n",
       "      <td>i intended to reason this passion is detrimen...</td>\n",
       "      <td>1797</td>\n",
       "      <td>938</td>\n",
       "    </tr>\n",
       "    <tr>\n",
       "      <th>3</th>\n",
       "      <td>84</td>\n",
       "      <td>how is this i must not be trifled with and i ...</td>\n",
       "      <td>1797</td>\n",
       "      <td>542</td>\n",
       "    </tr>\n",
       "    <tr>\n",
       "      <th>4</th>\n",
       "      <td>84</td>\n",
       "      <td>a few days after the turk entered his daughte...</td>\n",
       "      <td>1797</td>\n",
       "      <td>521</td>\n",
       "    </tr>\n",
       "  </tbody>\n",
       "</table>\n",
       "</div>"
      ],
      "text/plain": [
       "   book_id                                               text  birth_yr  \\\n",
       "0       84   and now with the world before me whither shou...      1797   \n",
       "1       84   you have been ill very ill and even the const...      1797   \n",
       "2       84   i intended to reason this passion is detrimen...      1797   \n",
       "3       84   how is this i must not be trifled with and i ...      1797   \n",
       "4       84   a few days after the turk entered his daughte...      1797   \n",
       "\n",
       "   text_len  \n",
       "0       663  \n",
       "1       931  \n",
       "2       938  \n",
       "3       542  \n",
       "4       521  "
      ]
     },
     "execution_count": 64,
     "metadata": {},
     "output_type": "execute_result"
    }
   ],
   "source": [
    "# Create a copy of the dataset to do text analysis on\n",
    "data_tfidf = data.copy()\n",
    "\n",
    "# Process the dataset by removing punctuation for TF-IDF\n",
    "def preprocess(text):\n",
    "    text = re.sub(r'[^A-Za-z0-9]+', \" \", text)\n",
    "    text = text.lower()\n",
    "    return text\n",
    "data_tfidf[\"text\"] = data_tfidf.get(\"text\").apply(preprocess)\n",
    "data_tfidf.head()"
   ]
  },
  {
   "cell_type": "code",
   "execution_count": 65,
   "metadata": {},
   "outputs": [],
   "source": [
    "# Create a standard TF-IDF using arbitrary parameters\n",
    "tfidf = TfidfVectorizer(\n",
    "    sublinear_tf=True,\n",
    "    analyzer='word',\n",
    "    max_features=20000,\n",
    "    tokenizer=nltk.tokenize.word_tokenize,\n",
    "    stop_words=stopwords.words(\"english\")\n",
    ")"
   ]
  },
  {
   "cell_type": "code",
   "execution_count": 78,
   "metadata": {},
   "outputs": [],
   "source": [
    "X = tfidf.fit_transform(data_tfidf[\"text\"])\n",
    "y = np.array(data_tfidf[\"birth_yr\"])\n",
    "\n",
    "X_train, X_test, y_train, y_test = train_test_split(X, y, test_size=0.2, random_state=1)"
   ]
  },
  {
   "cell_type": "code",
   "execution_count": 79,
   "metadata": {},
   "outputs": [
    {
     "data": {
      "text/plain": [
       "LogisticRegression()"
      ]
     },
     "execution_count": 79,
     "metadata": {},
     "output_type": "execute_result"
    }
   ],
   "source": [
    "model1 = linear_model.LogisticRegression()\n",
    "model1.fit(X_train, y_train)"
   ]
  },
  {
   "cell_type": "code",
   "execution_count": 80,
   "metadata": {},
   "outputs": [],
   "source": [
    "y_train_pred = model1.predict(X_train)\n",
    "y_test_pred = model1.predict(X_test)"
   ]
  },
  {
   "cell_type": "code",
   "execution_count": 81,
   "metadata": {},
   "outputs": [],
   "source": [
    "def RMSE(y_pred, y):\n",
    "    return np.sqrt(np.sum(np.square(y - y_pred)) / y.shape[0])"
   ]
  },
  {
   "cell_type": "code",
   "execution_count": 82,
   "metadata": {},
   "outputs": [
    {
     "name": "stdout",
     "output_type": "stream",
     "text": [
      "Training RMSE: 83.69225225565202\n",
      "Training RMSE: 109.53268907985516\n"
     ]
    }
   ],
   "source": [
    "print(f\"Training RMSE: {RMSE(y_train_pred, y_train)}\")\n",
    "print(f\"Training RMSE: {RMSE(y_test_pred, y_test)}\")"
   ]
  },
  {
   "cell_type": "code",
   "execution_count": 94,
   "metadata": {},
   "outputs": [
    {
     "name": "stdout",
     "output_type": "stream",
     "text": [
      "Random Guessing RMSE: 210.72867517564953\n"
     ]
    }
   ],
   "source": [
    "y_pred_rand = np.random.randint(1500, 1999, size=y_test.shape[0])\n",
    "print(f\"Random Guessing RMSE: {RMSE(y_pred_rand, y_test)}\")"
   ]
  }
 ],
 "metadata": {
  "kernelspec": {
   "display_name": "Python 3 (ipykernel)",
   "language": "python",
   "name": "python3"
  },
  "language_info": {
   "codemirror_mode": {
    "name": "ipython",
    "version": 3
   },
   "file_extension": ".py",
   "mimetype": "text/x-python",
   "name": "python",
   "nbconvert_exporter": "python",
   "pygments_lexer": "ipython3",
   "version": "3.9.12"
  }
 },
 "nbformat": 4,
 "nbformat_minor": 4
}
