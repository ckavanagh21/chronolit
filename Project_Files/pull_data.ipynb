{
 "cells": [
  {
   "cell_type": "markdown",
   "metadata": {},
   "source": [
    "# Import Important Libraries"
   ]
  },
  {
   "cell_type": "code",
   "execution_count": 2,
   "metadata": {},
   "outputs": [],
   "source": [
    "from urllib.request import urlopen \n",
    "from urllib.error import HTTPError\n",
    "import json \n",
    "import numpy as np\n",
    "import csv\n",
    "import re\n",
    "import random\n",
    "import pandas as pd"
   ]
  },
  {
   "cell_type": "markdown",
   "metadata": {},
   "source": [
    "# Pull Author Meta-Data From Website"
   ]
  },
  {
   "cell_type": "code",
   "execution_count": 3,
   "metadata": {},
   "outputs": [],
   "source": [
    "def pull_data(min_yr = 1500, max_yr = 2000, num_pgs = 20):\n",
    "    # Creates a 2d numpy array, where the first column is the book id and \n",
    "    # the second column is the year that the author was born\n",
    "    data = []\n",
    "\n",
    "    for yr in range(min_yr, max_yr, 100):\n",
    "        for pg in range(1, num_pgs + 1, 1):\n",
    "            # Show Progress\n",
    "            print(f\"Processing Year {yr}, Page {pg}/{num_pgs}\", end='\\r')\n",
    "            # Create a query that gets all books where the author is alive in the specified century at the specified page\n",
    "            url = f\"http://gutendex.com/books?author_year_start={yr}&author_year_start={yr + 99}&languages=en&page={pg}\"\n",
    "            # Pull resulting json file\n",
    "            response = urlopen(url)\n",
    "            data_json = json.loads(response.read()) \n",
    "            # Save book id and author birth year in data\n",
    "            data_pg = np.array([(x['id'], x['authors'][0]['birth_year']) for x in data_json['results']])\n",
    "            data.extend(data_pg)\n",
    "            \n",
    "    return np.array(data)"
   ]
  },
  {
   "cell_type": "markdown",
   "metadata": {},
   "source": [
    "## Save Meta-Data if data isn't saved"
   ]
  },
  {
   "cell_type": "code",
   "execution_count": 4,
   "metadata": {},
   "outputs": [],
   "source": [
    "try:\n",
    "    # Check if date_data.csv exists\n",
    "    date_data = pd.read_csv(\"data/date_data.csv\").astype(int)\n",
    "except FileNotFoundError:\n",
    "    # If date_data.csv doesn't exist, pull neccessary data using Gutendex API\n",
    "    date_data = pull_data()\n",
    "    # Save resulting data in csv file\n",
    "    data_csv = {'book_id': int(date_data[:,0]), 'birth_yr': int(date_data[:,1])}\n",
    "    with open('data/date_data.csv', 'w') as f:\n",
    "        w = csv.writer(f)\n",
    "        w.writerow(data_csv.keys())\n",
    "        w.writerows(zip(*data_csv.values()))\n",
    "    # Pull data as pandas Dataframe for further use\n",
    "    date_data = pd.read_csv(\"data/date_data.csv\").astype(int)"
   ]
  },
  {
   "cell_type": "code",
   "execution_count": 5,
   "metadata": {},
   "outputs": [
    {
     "data": {
      "text/html": [
       "<div>\n",
       "<style scoped>\n",
       "    .dataframe tbody tr th:only-of-type {\n",
       "        vertical-align: middle;\n",
       "    }\n",
       "\n",
       "    .dataframe tbody tr th {\n",
       "        vertical-align: top;\n",
       "    }\n",
       "\n",
       "    .dataframe thead th {\n",
       "        text-align: right;\n",
       "    }\n",
       "</style>\n",
       "<table border=\"1\" class=\"dataframe\">\n",
       "  <thead>\n",
       "    <tr style=\"text-align: right;\">\n",
       "      <th></th>\n",
       "      <th>book_id</th>\n",
       "      <th>birth_yr</th>\n",
       "    </tr>\n",
       "  </thead>\n",
       "  <tbody>\n",
       "    <tr>\n",
       "      <th>0</th>\n",
       "      <td>84</td>\n",
       "      <td>1797</td>\n",
       "    </tr>\n",
       "    <tr>\n",
       "      <th>1</th>\n",
       "      <td>1513</td>\n",
       "      <td>1564</td>\n",
       "    </tr>\n",
       "    <tr>\n",
       "      <th>2</th>\n",
       "      <td>1342</td>\n",
       "      <td>1775</td>\n",
       "    </tr>\n",
       "    <tr>\n",
       "      <th>3</th>\n",
       "      <td>25344</td>\n",
       "      <td>1804</td>\n",
       "    </tr>\n",
       "    <tr>\n",
       "      <th>4</th>\n",
       "      <td>345</td>\n",
       "      <td>1847</td>\n",
       "    </tr>\n",
       "  </tbody>\n",
       "</table>\n",
       "</div>"
      ],
      "text/plain": [
       "   book_id  birth_yr\n",
       "0       84      1797\n",
       "1     1513      1564\n",
       "2     1342      1775\n",
       "3    25344      1804\n",
       "4      345      1847"
      ]
     },
     "execution_count": 5,
     "metadata": {},
     "output_type": "execute_result"
    }
   ],
   "source": [
    "date_data.head()"
   ]
  },
  {
   "cell_type": "markdown",
   "metadata": {},
   "source": [
    "# Get Book Text Samples"
   ]
  },
  {
   "cell_type": "code",
   "execution_count": 6,
   "metadata": {},
   "outputs": [],
   "source": [
    "def get_text(book_id):\n",
    "    url = f\"https://www.gutenberg.org/cache/epub/{book_id}/pg{book_id}.txt\"\n",
    "    text = urlopen(url).read()\n",
    "    return text\n",
    "\n",
    "def get_text_samples(text, num_samples = 3):\n",
    "    # Get rid of Guttenberg Header and footer\n",
    "    book_text = [x.strip() for x in text.decode(\"utf-8\").split('***')][2]\n",
    "    # Remove '\\r' symbol\n",
    "    book_text = re.sub(r\"[\\r]+\", \"\", book_text)\n",
    "    # split by paragraph breaks\n",
    "    book_text = re.split(r\"\\n{2,}\", book_text)\n",
    "    # remove paragraphs that are less 8 average length sentences long\n",
    "    book_text = list(filter(lambda x: len(x) >= (50 * 8), np.array(book_text)))\n",
    "    # Randomly sample remaining paragraphs\n",
    "    paragraphs = random.sample(book_text, min(num_samples, len(book_text)))\n",
    "    # Replace \\n with ' ' and return paragraphs\n",
    "    return np.array([re.sub(r\"\\n\", \" \", p) for p in paragraphs])"
   ]
  },
  {
   "cell_type": "code",
   "execution_count": 7,
   "metadata": {},
   "outputs": [],
   "source": [
    "def create_excerpt_data(data):\n",
    "    # Creates a 2d numpy array of the book id and randomly sampled\n",
    "    # paragraphs within the book\n",
    "    book_ids = data[:,0].astype(int)\n",
    "    book_samples = []\n",
    "    invalid_ids = []\n",
    "\n",
    "    for i in range(book_ids.shape[0]):\n",
    "        # For each book try to access the text file\n",
    "        try:\n",
    "            text = get_text(book_ids[i])\n",
    "        except HTTPError as err:\n",
    "            # If unable to access the text file, display the error code \n",
    "            # and save the book_id in invalid_ids for logging purposes\n",
    "            print(f\"HTTP {err.code} Error: book_id = {book_ids[i]}\")\n",
    "            invalid_ids.append(book_ids[i])\n",
    "            \n",
    "        # Clean and randomly sample text samples\n",
    "        text_samples = get_text_samples(text)\n",
    "        # Combine text samples with associated book_id\n",
    "        ids = np.full(len(text_samples), book_ids[i])\n",
    "        # Save samples and book id into book_samples\n",
    "        samples = np.array(list(zip(ids, text_samples)))\n",
    "        book_samples.extend(samples)\n",
    "        \n",
    "        # Show Progress\n",
    "        print(f\"Progress: {i/book_ids.shape[0]}\", end='\\r')\n",
    "\n",
    "    return np.array(book_samples), invalid_ids"
   ]
  },
  {
   "cell_type": "markdown",
   "metadata": {},
   "source": [
    "## Save Excerpt Data if Data isn't Saved"
   ]
  },
  {
   "cell_type": "code",
   "execution_count": 8,
   "metadata": {},
   "outputs": [],
   "source": [
    "try:\n",
    "    # Check if excerpts.csv exists\n",
    "    excerpt_data = pd.read_csv(\"data/excerpts.csv\")\n",
    "except FileNotFoundError:\n",
    "    # If excerpts.csv doesn't exist, create necessary data\n",
    "    book_samples, invalid_ids = create_excerpt_data(date_data.to_numpy())\n",
    "    # Save resulting excerpts in csv file\n",
    "    book_data_csv = {'book_id': book_samples[:,0], 'text': book_samples[:,1]}\n",
    "    with open('data/excerpts.csv', 'w') as f:\n",
    "        w = csv.writer(f)\n",
    "        w.writerow(book_data_csv.keys())\n",
    "        w.writerows(zip(*book_data_csv.values()))\n",
    "    # Pull data as Pandas DataFrame fro further use\n",
    "    excerpt_data = pd.read_csv(\"data/excerpts.csv\")"
   ]
  },
  {
   "cell_type": "markdown",
   "metadata": {},
   "source": [
    "# Combine Data into Unified Dataframe"
   ]
  },
  {
   "cell_type": "code",
   "execution_count": 9,
   "metadata": {},
   "outputs": [
    {
     "data": {
      "text/html": [
       "<div>\n",
       "<style scoped>\n",
       "    .dataframe tbody tr th:only-of-type {\n",
       "        vertical-align: middle;\n",
       "    }\n",
       "\n",
       "    .dataframe tbody tr th {\n",
       "        vertical-align: top;\n",
       "    }\n",
       "\n",
       "    .dataframe thead th {\n",
       "        text-align: right;\n",
       "    }\n",
       "</style>\n",
       "<table border=\"1\" class=\"dataframe\">\n",
       "  <thead>\n",
       "    <tr style=\"text-align: right;\">\n",
       "      <th></th>\n",
       "      <th>book_id</th>\n",
       "      <th>text</th>\n",
       "      <th>birth_yr</th>\n",
       "    </tr>\n",
       "  </thead>\n",
       "  <tbody>\n",
       "    <tr>\n",
       "      <th>0</th>\n",
       "      <td>84</td>\n",
       "      <td>“And now, with the world before me, whither sh...</td>\n",
       "      <td>1797</td>\n",
       "    </tr>\n",
       "    <tr>\n",
       "      <th>1</th>\n",
       "      <td>84</td>\n",
       "      <td>“You have been ill, very ill, and even the con...</td>\n",
       "      <td>1797</td>\n",
       "    </tr>\n",
       "    <tr>\n",
       "      <th>2</th>\n",
       "      <td>84</td>\n",
       "      <td>“I intended to reason. This passion is detrime...</td>\n",
       "      <td>1797</td>\n",
       "    </tr>\n",
       "    <tr>\n",
       "      <th>3</th>\n",
       "      <td>84</td>\n",
       "      <td>“How is this? I must not be trifled with, and ...</td>\n",
       "      <td>1797</td>\n",
       "    </tr>\n",
       "    <tr>\n",
       "      <th>4</th>\n",
       "      <td>84</td>\n",
       "      <td>“A few days after, the Turk entered his daught...</td>\n",
       "      <td>1797</td>\n",
       "    </tr>\n",
       "  </tbody>\n",
       "</table>\n",
       "</div>"
      ],
      "text/plain": [
       "   book_id                                               text  birth_yr\n",
       "0       84  “And now, with the world before me, whither sh...      1797\n",
       "1       84  “You have been ill, very ill, and even the con...      1797\n",
       "2       84  “I intended to reason. This passion is detrime...      1797\n",
       "3       84  “How is this? I must not be trifled with, and ...      1797\n",
       "4       84  “A few days after, the Turk entered his daught...      1797"
      ]
     },
     "execution_count": 9,
     "metadata": {},
     "output_type": "execute_result"
    }
   ],
   "source": [
    "data = excerpt_data.merge(date_data, how='inner').drop_duplicates().reset_index(drop=True)\n",
    "data.head()"
   ]
  },
  {
   "cell_type": "markdown",
   "metadata": {},
   "source": [
    "# Clean Data"
   ]
  },
  {
   "cell_type": "code",
   "execution_count": 10,
   "metadata": {},
   "outputs": [
    {
     "data": {
      "text/html": [
       "<div>\n",
       "<style scoped>\n",
       "    .dataframe tbody tr th:only-of-type {\n",
       "        vertical-align: middle;\n",
       "    }\n",
       "\n",
       "    .dataframe tbody tr th {\n",
       "        vertical-align: top;\n",
       "    }\n",
       "\n",
       "    .dataframe thead th {\n",
       "        text-align: right;\n",
       "    }\n",
       "</style>\n",
       "<table border=\"1\" class=\"dataframe\">\n",
       "  <thead>\n",
       "    <tr style=\"text-align: right;\">\n",
       "      <th></th>\n",
       "      <th>book_id</th>\n",
       "      <th>text</th>\n",
       "      <th>birth_yr</th>\n",
       "    </tr>\n",
       "  </thead>\n",
       "  <tbody>\n",
       "    <tr>\n",
       "      <th>0</th>\n",
       "      <td>84</td>\n",
       "      <td>“And now, with the world before me, whither sh...</td>\n",
       "      <td>1797</td>\n",
       "    </tr>\n",
       "    <tr>\n",
       "      <th>1</th>\n",
       "      <td>84</td>\n",
       "      <td>“You have been ill, very ill, and even the con...</td>\n",
       "      <td>1797</td>\n",
       "    </tr>\n",
       "    <tr>\n",
       "      <th>2</th>\n",
       "      <td>84</td>\n",
       "      <td>“I intended to reason. This passion is detrime...</td>\n",
       "      <td>1797</td>\n",
       "    </tr>\n",
       "    <tr>\n",
       "      <th>3</th>\n",
       "      <td>84</td>\n",
       "      <td>“How is this? I must not be trifled with, and ...</td>\n",
       "      <td>1797</td>\n",
       "    </tr>\n",
       "    <tr>\n",
       "      <th>4</th>\n",
       "      <td>84</td>\n",
       "      <td>“A few days after, the Turk entered his daught...</td>\n",
       "      <td>1797</td>\n",
       "    </tr>\n",
       "  </tbody>\n",
       "</table>\n",
       "</div>"
      ],
      "text/plain": [
       "   book_id                                               text  birth_yr\n",
       "0       84  “And now, with the world before me, whither sh...      1797\n",
       "1       84  “You have been ill, very ill, and even the con...      1797\n",
       "2       84  “I intended to reason. This passion is detrime...      1797\n",
       "3       84  “How is this? I must not be trifled with, and ...      1797\n",
       "4       84  “A few days after, the Turk entered his daught...      1797"
      ]
     },
     "execution_count": 10,
     "metadata": {},
     "output_type": "execute_result"
    }
   ],
   "source": [
    "# remove entries where text is less than 50 characters long\n",
    "data = data[data['text'].apply(lambda x: len(re.findall(r\"\\w+\", x)) > 50)]\n",
    "data.head()"
   ]
  },
  {
   "cell_type": "markdown",
   "metadata": {},
   "source": [
    "# Save Final Dataset"
   ]
  },
  {
   "cell_type": "code",
   "execution_count": 11,
   "metadata": {},
   "outputs": [],
   "source": [
    "data.to_csv(\"data/data.csv\", index=False)"
   ]
  }
 ],
 "metadata": {
  "kernelspec": {
   "display_name": "Python 3 (ipykernel)",
   "language": "python",
   "name": "python3"
  },
  "language_info": {
   "codemirror_mode": {
    "name": "ipython",
    "version": 3
   },
   "file_extension": ".py",
   "mimetype": "text/x-python",
   "name": "python",
   "nbconvert_exporter": "python",
   "pygments_lexer": "ipython3",
   "version": "3.9.12"
  }
 },
 "nbformat": 4,
 "nbformat_minor": 2
}
