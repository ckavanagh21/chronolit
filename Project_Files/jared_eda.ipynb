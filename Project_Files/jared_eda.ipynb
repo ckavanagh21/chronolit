{
 "cells": [
  {
   "cell_type": "code",
   "execution_count": 1,
   "id": "d9364a85-2dd5-46f3-98d6-04f941b65c52",
   "metadata": {},
   "outputs": [
    {
     "name": "stderr",
     "output_type": "stream",
     "text": [
      "[nltk_data] Downloading package stopwords to\n",
      "[nltk_data]     /Users/jaredsimpauco/nltk_data...\n",
      "[nltk_data]   Package stopwords is already up-to-date!\n",
      "[nltk_data] Downloading package punkt to\n",
      "[nltk_data]     /Users/jaredsimpauco/nltk_data...\n",
      "[nltk_data]   Package punkt is already up-to-date!\n"
     ]
    },
    {
     "data": {
      "text/plain": [
       "True"
      ]
     },
     "execution_count": 1,
     "metadata": {},
     "output_type": "execute_result"
    }
   ],
   "source": [
    "import pandas as pd\n",
    "import numpy as np\n",
    "import matplotlib.pyplot as plt\n",
    "import csv\n",
    "import re\n",
    "from sklearn.feature_extraction.text import TfidfVectorizer\n",
    "from sklearn.model_selection import train_test_split\n",
    "from sklearn.ensemble import RandomForestClassifier\n",
    "from sklearn.ensemble import RandomForestRegressor\n",
    "from sklearn.model_selection import GridSearchCV\n",
    "import nltk\n",
    "from nltk.corpus import stopwords\n",
    "nltk.download('stopwords')\n",
    "nltk.download('punkt')"
   ]
  },
  {
   "cell_type": "code",
   "execution_count": 2,
   "id": "4984506b-8b14-4166-996f-4b54baa80575",
   "metadata": {},
   "outputs": [
    {
     "data": {
      "text/html": [
       "<div>\n",
       "<style scoped>\n",
       "    .dataframe tbody tr th:only-of-type {\n",
       "        vertical-align: middle;\n",
       "    }\n",
       "\n",
       "    .dataframe tbody tr th {\n",
       "        vertical-align: top;\n",
       "    }\n",
       "\n",
       "    .dataframe thead th {\n",
       "        text-align: right;\n",
       "    }\n",
       "</style>\n",
       "<table border=\"1\" class=\"dataframe\">\n",
       "  <thead>\n",
       "    <tr style=\"text-align: right;\">\n",
       "      <th></th>\n",
       "      <th>book_id</th>\n",
       "      <th>text</th>\n",
       "      <th>birth_yr</th>\n",
       "    </tr>\n",
       "  </thead>\n",
       "  <tbody>\n",
       "    <tr>\n",
       "      <th>0</th>\n",
       "      <td>84</td>\n",
       "      <td>“And now, with the world before me, whither sh...</td>\n",
       "      <td>1797</td>\n",
       "    </tr>\n",
       "    <tr>\n",
       "      <th>1</th>\n",
       "      <td>84</td>\n",
       "      <td>“You have been ill, very ill, and even the con...</td>\n",
       "      <td>1797</td>\n",
       "    </tr>\n",
       "    <tr>\n",
       "      <th>2</th>\n",
       "      <td>84</td>\n",
       "      <td>“I intended to reason. This passion is detrime...</td>\n",
       "      <td>1797</td>\n",
       "    </tr>\n",
       "    <tr>\n",
       "      <th>3</th>\n",
       "      <td>84</td>\n",
       "      <td>“How is this? I must not be trifled with, and ...</td>\n",
       "      <td>1797</td>\n",
       "    </tr>\n",
       "    <tr>\n",
       "      <th>4</th>\n",
       "      <td>84</td>\n",
       "      <td>“A few days after, the Turk entered his daught...</td>\n",
       "      <td>1797</td>\n",
       "    </tr>\n",
       "  </tbody>\n",
       "</table>\n",
       "</div>"
      ],
      "text/plain": [
       "   book_id                                               text  birth_yr\n",
       "0       84  “And now, with the world before me, whither sh...      1797\n",
       "1       84  “You have been ill, very ill, and even the con...      1797\n",
       "2       84  “I intended to reason. This passion is detrime...      1797\n",
       "3       84  “How is this? I must not be trifled with, and ...      1797\n",
       "4       84  “A few days after, the Turk entered his daught...      1797"
      ]
     },
     "execution_count": 2,
     "metadata": {},
     "output_type": "execute_result"
    }
   ],
   "source": [
    "raw_data = pd.read_csv(\"data/data.csv\")\n",
    "raw_data.head()"
   ]
  },
  {
   "cell_type": "markdown",
   "id": "8ec52be7-786e-4b8a-a90a-ad6f3ebb5ff3",
   "metadata": {},
   "source": [
    "## EDA 1: Distribution of Number of Excerpts"
   ]
  },
  {
   "cell_type": "code",
   "execution_count": 3,
   "id": "3494adfc-b092-4b63-b2d0-7cae64a9556e",
   "metadata": {},
   "outputs": [
    {
     "data": {
      "text/html": [
       "<div>\n",
       "<style scoped>\n",
       "    .dataframe tbody tr th:only-of-type {\n",
       "        vertical-align: middle;\n",
       "    }\n",
       "\n",
       "    .dataframe tbody tr th {\n",
       "        vertical-align: top;\n",
       "    }\n",
       "\n",
       "    .dataframe thead th {\n",
       "        text-align: right;\n",
       "    }\n",
       "</style>\n",
       "<table border=\"1\" class=\"dataframe\">\n",
       "  <thead>\n",
       "    <tr style=\"text-align: right;\">\n",
       "      <th></th>\n",
       "      <th>Number of Excerpts</th>\n",
       "      <th>Count</th>\n",
       "    </tr>\n",
       "  </thead>\n",
       "  <tbody>\n",
       "    <tr>\n",
       "      <th>0</th>\n",
       "      <td>3</td>\n",
       "      <td>838</td>\n",
       "    </tr>\n",
       "    <tr>\n",
       "      <th>1</th>\n",
       "      <td>12</td>\n",
       "      <td>203</td>\n",
       "    </tr>\n",
       "    <tr>\n",
       "      <th>2</th>\n",
       "      <td>9</td>\n",
       "      <td>181</td>\n",
       "    </tr>\n",
       "    <tr>\n",
       "      <th>3</th>\n",
       "      <td>6</td>\n",
       "      <td>78</td>\n",
       "    </tr>\n",
       "    <tr>\n",
       "      <th>4</th>\n",
       "      <td>11</td>\n",
       "      <td>75</td>\n",
       "    </tr>\n",
       "  </tbody>\n",
       "</table>\n",
       "</div>"
      ],
      "text/plain": [
       "   Number of Excerpts  Count\n",
       "0                   3    838\n",
       "1                  12    203\n",
       "2                   9    181\n",
       "3                   6     78\n",
       "4                  11     75"
      ]
     },
     "execution_count": 3,
     "metadata": {},
     "output_type": "execute_result"
    }
   ],
   "source": [
    "excerpt_count = raw_data.copy()\n",
    "\n",
    "# Getting counts for the number of excerpts #\n",
    "excerpt_count = (\n",
    "    excerpt_count\n",
    "    .groupby('book_id')[['text']]\n",
    "    .count()\n",
    "    .reset_index()['text']\n",
    "    .value_counts()\n",
    "    .to_frame()\n",
    "    .reset_index()\n",
    ")\n",
    "\n",
    "# Renaming columns #\n",
    "excerpt_count = (\n",
    "    excerpt_count\n",
    "    .rename(columns=\n",
    "            {'index': 'Number of Excerpts',\n",
    "             'text': 'Count'}\n",
    "    )\n",
    ")\n",
    "\n",
    "excerpt_count.head()"
   ]
  },
  {
   "cell_type": "code",
   "execution_count": 4,
   "id": "9592c25f-6db6-4920-bbc9-34ab89ca570d",
   "metadata": {},
   "outputs": [
    {
     "data": {
      "image/png": "[encoded data removed]",
      "text/plain": [
       "<Figure size 640x480 with 1 Axes>"
      ]
     },
     "metadata": {},
     "output_type": "display_data"
    }
   ],
   "source": [
    "plt.bar(x='Number of Excerpts', height='Count', data=excerpt_count);\n",
    "plt.xlabel('Number of Excerpts');\n",
    "plt.ylabel('Count');\n",
    "plt.title('Distribution of Excerpts Count');"
   ]
  },
  {
   "cell_type": "markdown",
   "id": "68c55046-ccd3-4a42-b604-9d8b029f79b5",
   "metadata": {},
   "source": [
    "While we tried to ensure that there were only 3 excerpts per book, there are some with more or less than 3. Some books have less than 3 due to our initial data cleaning, in which when wrangling the data, some excerpts were just the table of contents. Since we have decided to omit them from our final dataset, this resulted in some books having less than 3 excerpts. There are a good amount of books that have more than 3 excerpts due to their popularity in multiple centuries. To elaborate, a book might be listed twice due to its popularity and more people wanting to read the book. Because of this, the book was wrangled more than once, and more excerpts have been pulled for the book."
   ]
  },
  {
   "cell_type": "markdown",
   "id": "a537a2ad-b84a-4e15-9cb5-6854d47a5cc2",
   "metadata": {},
   "source": [
    "## EDA 2: Number of Excerpts Per Century"
   ]
  },
  {
   "cell_type": "code",
   "execution_count": 5,
   "id": "1359579f-38b6-4f95-8991-c31f6f96abba",
   "metadata": {},
   "outputs": [],
   "source": [
    "centuries = raw_data.copy()\n",
    "\n",
    "# Creaing conditions #\n",
    "centuries_cond = [\n",
    "    (centuries['birth_yr'] >= 1500) & (centuries['birth_yr'] < 1600),\n",
    "    (centuries['birth_yr'] >= 1600) & (centuries['birth_yr'] < 1700),\n",
    "    (centuries['birth_yr'] >= 1700) & (centuries['birth_yr'] < 1800),\n",
    "    (centuries['birth_yr'] >= 1800) & (centuries['birth_yr'] < 1900),\n",
    "    (centuries['birth_yr'] >= 1900) & (centuries['birth_yr'] < 2000)\n",
    "]\n",
    "\n",
    "# Creating century column #\n",
    "centuries['Century'] = np.select(centuries_cond, ['16th', '17th', '18th', '19th', '20th'], default='null')\n",
    "\n",
    "# Removing null values (outliers) #\n",
    "centuries = centuries[centuries['Century'] != 'null']\n",
    "\n",
    "# Getting counts #\n",
    "centuries = (\n",
    "    centuries\n",
    "    .groupby('Century')[['text']]\n",
    "    .count()\n",
    "    .reset_index()\n",
    "    .rename(columns={\n",
    "        'text': 'Count'\n",
    "        }\n",
    "    )\n",
    ")"
   ]
  },
  {
   "cell_type": "code",
   "execution_count": 6,
   "id": "fb6e136d-0431-4ad1-9122-ddf42d2b1c27",
   "metadata": {},
   "outputs": [
    {
     "data": {
      "image/png": "[encoded data removed]",
      "text/plain": [
       "<Figure size 640x480 with 1 Axes>"
      ]
     },
     "metadata": {},
     "output_type": "display_data"
    }
   ],
   "source": [
    "plt.bar(x='Century', height='Count', data=centuries);\n",
    "plt.xlabel('Centuries');\n",
    "plt.ylabel('Count');\n",
    "plt.title('Distribution of Excerpts Per Century');"
   ]
  },
  {
   "cell_type": "markdown",
   "id": "7541b5a5-773b-4e26-b41d-40089e8d71ba",
   "metadata": {},
   "source": [
    "There was a particular outlier in our dataset in that one of the books were from the BCE time period. It will be omitted since it is the only text from that time frame and would only prove to mess with our model later down the line."
   ]
  },
  {
   "cell_type": "markdown",
   "id": "2ac3bf08-59f5-45fb-aedd-c1a75d8a4b39",
   "metadata": {},
   "source": [
    "## Model Exploration"
   ]
  },
  {
   "cell_type": "code",
   "execution_count": 7,
   "id": "c2ccacf2-603b-48f4-8d11-5bec262a777b",
   "metadata": {},
   "outputs": [],
   "source": [
    "data = raw_data.copy()\n",
    "data['text'] = data['text'].str.strip()\n",
    "data = data.drop(4996)"
   ]
  },
  {
   "cell_type": "code",
   "execution_count": 8,
   "id": "0f82524b-8c32-4b7c-b4bd-6f6ac3729988",
   "metadata": {},
   "outputs": [
    {
     "data": {
      "text/html": [
       "<div>\n",
       "<style scoped>\n",
       "    .dataframe tbody tr th:only-of-type {\n",
       "        vertical-align: middle;\n",
       "    }\n",
       "\n",
       "    .dataframe tbody tr th {\n",
       "        vertical-align: top;\n",
       "    }\n",
       "\n",
       "    .dataframe thead th {\n",
       "        text-align: right;\n",
       "    }\n",
       "</style>\n",
       "<table border=\"1\" class=\"dataframe\">\n",
       "  <thead>\n",
       "    <tr style=\"text-align: right;\">\n",
       "      <th></th>\n",
       "      <th>book_id</th>\n",
       "      <th>text</th>\n",
       "      <th>birth_yr</th>\n",
       "    </tr>\n",
       "  </thead>\n",
       "  <tbody>\n",
       "    <tr>\n",
       "      <th>0</th>\n",
       "      <td>84</td>\n",
       "      <td>and now with the world before me whither shou...</td>\n",
       "      <td>1797</td>\n",
       "    </tr>\n",
       "    <tr>\n",
       "      <th>1</th>\n",
       "      <td>84</td>\n",
       "      <td>you have been ill very ill and even the const...</td>\n",
       "      <td>1797</td>\n",
       "    </tr>\n",
       "    <tr>\n",
       "      <th>2</th>\n",
       "      <td>84</td>\n",
       "      <td>i intended to reason this passion is detrimen...</td>\n",
       "      <td>1797</td>\n",
       "    </tr>\n",
       "    <tr>\n",
       "      <th>3</th>\n",
       "      <td>84</td>\n",
       "      <td>how is this i must not be trifled with and i ...</td>\n",
       "      <td>1797</td>\n",
       "    </tr>\n",
       "    <tr>\n",
       "      <th>4</th>\n",
       "      <td>84</td>\n",
       "      <td>a few days after the turk entered his daughte...</td>\n",
       "      <td>1797</td>\n",
       "    </tr>\n",
       "  </tbody>\n",
       "</table>\n",
       "</div>"
      ],
      "text/plain": [
       "   book_id                                               text  birth_yr\n",
       "0       84   and now with the world before me whither shou...      1797\n",
       "1       84   you have been ill very ill and even the const...      1797\n",
       "2       84   i intended to reason this passion is detrimen...      1797\n",
       "3       84   how is this i must not be trifled with and i ...      1797\n",
       "4       84   a few days after the turk entered his daughte...      1797"
      ]
     },
     "execution_count": 8,
     "metadata": {},
     "output_type": "execute_result"
    }
   ],
   "source": [
    "# Create a copy of the dataset to do text analysis on\n",
    "data_tfidf = data.copy()\n",
    "\n",
    "# Process the dataset by removing punctuation for TF-IDF\n",
    "def preprocess(text):\n",
    "    text = re.sub(r'[^A-Za-z0-9]+', \" \", text)\n",
    "    text = text.lower()\n",
    "    return text\n",
    "data_tfidf[\"text\"] = data_tfidf.get(\"text\").apply(preprocess)\n",
    "data_tfidf.head()"
   ]
  },
  {
   "cell_type": "code",
   "execution_count": 21,
   "id": "f2c0cf19-0a4b-40d8-b64c-d26fa1287844",
   "metadata": {},
   "outputs": [],
   "source": [
    "# Create a standard TF-IDF using arbitrary parameters\n",
    "tfidf = TfidfVectorizer(\n",
    "    sublinear_tf=True,\n",
    "    analyzer='word',\n",
    "    max_features=2000,\n",
    "    tokenizer=nltk.tokenize.word_tokenize,\n",
    "    stop_words=stopwords.words(\"english\")\n",
    ")"
   ]
  },
  {
   "cell_type": "code",
   "execution_count": 22,
   "id": "280dea19-2479-483b-86fe-3d06120aa04d",
   "metadata": {},
   "outputs": [
    {
     "name": "stderr",
     "output_type": "stream",
     "text": [
      "/opt/anaconda3/lib/python3.9/site-packages/sklearn/feature_extraction/text.py:396: UserWarning: Your stop_words may be inconsistent with your preprocessing. Tokenizing the stop words generated tokens [\"'d\", \"'ll\", \"'re\", \"'s\", \"'ve\", 'could', 'might', 'must', \"n't\", 'need', 'sha', 'wo', 'would'] not in stop_words.\n",
      "  warnings.warn(\n"
     ]
    }
   ],
   "source": [
    "X = tfidf.fit_transform(data_tfidf[\"text\"])\n",
    "y = np.array(data_tfidf[\"birth_yr\"])\n",
    "\n",
    "X_train, X_test, y_train, y_test = train_test_split(X, y, test_size=0.2, random_state=1)"
   ]
  },
  {
   "cell_type": "code",
   "execution_count": 23,
   "id": "0dee246c-9305-438b-aaab-9dc81b99e708",
   "metadata": {},
   "outputs": [
    {
     "data": {
      "text/plain": [
       "RandomForestRegressor(max_depth=80, random_state=1)"
      ]
     },
     "execution_count": 23,
     "metadata": {},
     "output_type": "execute_result"
    }
   ],
   "source": [
    "model1 = RandomForestRegressor(max_depth=80, criterion='squared_error', random_state=1)\n",
    "model1.fit(X_train, y_train)"
   ]
  },
  {
   "cell_type": "code",
   "execution_count": 24,
   "id": "e3713681-1de9-4f22-815b-b91ccaa63955",
   "metadata": {},
   "outputs": [],
   "source": [
    "y_train_pred1 = model1.predict(X_train)\n",
    "y_test_pred1 = model1.predict(X_test)"
   ]
  },
  {
   "cell_type": "code",
   "execution_count": 25,
   "id": "c921effb-8d80-4e42-957b-04fedf0cdeaf",
   "metadata": {},
   "outputs": [],
   "source": [
    "def RMSE(y_pred, y):\n",
    "    return np.sqrt(np.sum(np.square(y - y_pred)) / y.shape[0])"
   ]
  },
  {
   "cell_type": "code",
   "execution_count": 26,
   "id": "aa47c02b-67e1-466f-b12a-75581ed50a6c",
   "metadata": {},
   "outputs": [
    {
     "name": "stdout",
     "output_type": "stream",
     "text": [
      "Training RMSE: 36.60502910157714\n",
      "Test RMSE: 114.34667541130021\n"
     ]
    }
   ],
   "source": [
    "print(f\"Training RMSE: {RMSE(y_train_pred1, y_train)}\")\n",
    "print(f\"Test RMSE: {RMSE(y_test_pred1, y_test)}\")"
   ]
  },
  {
   "cell_type": "code",
   "execution_count": 27,
   "id": "9da958ad-dcfc-45a8-a487-e977105d76d5",
   "metadata": {},
   "outputs": [
    {
     "data": {
      "text/plain": [
       "RandomForestClassifier(max_depth=70, random_state=1)"
      ]
     },
     "execution_count": 27,
     "metadata": {},
     "output_type": "execute_result"
    }
   ],
   "source": [
    "model2 = RandomForestClassifier(max_depth=70, criterion='gini', random_state=1)\n",
    "model2.fit(X_train, y_train)"
   ]
  },
  {
   "cell_type": "code",
   "execution_count": 28,
   "id": "a7279bc1-d1fa-4f6b-a011-d9349a9bb92e",
   "metadata": {},
   "outputs": [],
   "source": [
    "y_train_pred2 = model2.predict(X_train)\n",
    "y_test_pred2 = model2.predict(X_test)"
   ]
  },
  {
   "cell_type": "code",
   "execution_count": 29,
   "id": "a220ba21-17b7-45cc-92d7-5185a7207661",
   "metadata": {},
   "outputs": [
    {
     "name": "stdout",
     "output_type": "stream",
     "text": [
      "Training RMSE: 8.825880746139383\n",
      "Test RMSE: 125.62475295516354\n"
     ]
    }
   ],
   "source": [
    "print(f\"Training RMSE: {RMSE(y_train_pred2, y_train)}\")\n",
    "print(f\"Test RMSE: {RMSE(y_test_pred2, y_test)}\")"
   ]
  },
  {
   "cell_type": "code",
   "execution_count": 18,
   "id": "63c5f024-c27b-409a-a93b-f247d4ca6373",
   "metadata": {},
   "outputs": [],
   "source": [
    "# hyperparameters = {\n",
    "#     'max_depth': [50, 60, 70],\n",
    "#     'criterion': ['gini'],\n",
    "# }"
   ]
  },
  {
   "cell_type": "code",
   "execution_count": 19,
   "id": "61212151-fa6b-4c92-849a-ef8c69bd67e3",
   "metadata": {},
   "outputs": [],
   "source": [
    "# searcher = GridSearchCV(RandomForestClassifier(), hyperparameters)\n",
    "# searcher.fit(X_train, y_train)"
   ]
  },
  {
   "cell_type": "code",
   "execution_count": 20,
   "id": "afdf9d0d-d3e1-4cf3-b8c0-a2d96929b288",
   "metadata": {},
   "outputs": [],
   "source": [
    "# searcher.best_params_"
   ]
  }
 ],
 "metadata": {
  "kernelspec": {
   "display_name": "Python 3 (ipykernel)",
   "language": "python",
   "name": "python3"
  },
  "language_info": {
   "codemirror_mode": {
    "name": "ipython",
    "version": 3
   },
   "file_extension": ".py",
   "mimetype": "text/x-python",
   "name": "python",
   "nbconvert_exporter": "python",
   "pygments_lexer": "ipython3",
   "version": "3.9.13"
  }
 },
 "nbformat": 4,
 "nbformat_minor": 5
}
